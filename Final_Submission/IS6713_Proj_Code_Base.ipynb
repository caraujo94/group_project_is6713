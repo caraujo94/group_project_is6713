{
 "cells": [
  {
   "cell_type": "markdown",
   "id": "4770f410",
   "metadata": {},
   "source": [
    "# IS6713 Classification Project\n",
    "### Team: Python is Fun\n",
    "### Members:\n",
    "### - Stephen Garcia (wqr974)\n",
    "### - Carlos Araujo (vps958)\n",
    "### - Erica Rodriguez (p91869)"
   ]
  },
  {
   "cell_type": "markdown",
   "id": "82af90dc",
   "metadata": {},
   "source": [
    "## Annotation and Modeling Experiment\n",
    "This project is a comprehensive analysis of data annotation techniques and their impact on model performance. This project has two distinct parts: the first part focuses on data annotation, while the second part delves into model training and evaluation. The goal is to understand how different annotation methods affect the performance of machine learning models in various tasks.\n",
    "## Part 1: Data Annotation\n",
    "We created annotation guidelines and extracted a dataset of one thousand reddit posts.  The dataset was given to two groups for annotation: Group A and Group B. Each group was tasked with annotating the posts based on specific criteria. We chose Technology Related vs Non-Technology related posts and Political vs Non-Political posts.  The annotations were then compared to assess the consistency and reliability of the two groups' annotations.  We also calculated the inter-annotator agreement to evaluate the level of agreement between the two groups. The inter-annotator agreement was calculated using Cohen's Kappa statistic.\n",
    "\n",
    "### Gold Standard Dataset\n",
    "The gold standard dataset was created by combining the annotations from both groups. The final dataset consists of 1000 reddit posts, each annotated with a label indicating its category. The categories are as follows:\n",
    "- Category 1: Technology Related vs Non-Technology Related\n",
    "- Category 2: Politics Related vs Non-Politics Related\n",
    "\n",
    "## Part 2: Model Training and Evaluation\n",
    "In this part, we trained and evaluated various machine learning models and techniques using the annotated dataset. The models were trained on the gold standard dataset and evaluated based on their performance in classifying the reddit posts into the specified categories.\n",
    "### Models Used\n",
    "- Lexicon-based Model: A model that uses a lexicon of words to classify the posts based on their content.\n",
    "- LinearSVC (BoW Model): A supervised learning model that uses a bag-of-words (BoW) representation, word frequency vectors, to learn patterns and classify posts.\n",
    "- BoW with Feature Engineering: Enhanced versions of the BoW model that incorporate additional selected features (number of exclamation points, count of capitalized words) alongside word frequencies to improve classification performance.\n",
    "\n"
   ]
  },
  {
   "cell_type": "markdown",
   "id": "15795214",
   "metadata": {},
   "source": [
    "## Code Implementation\n",
    "### Class Definition\n",
    "The first code block defined a class called LexiconClassifier. This class is designed to determine whether a given text has representations of technology or politics. The class uses a lexicon-based approach, where it checks for the presence of specific keywords related to technology and politics in the input text."
   ]
  },
  {
   "cell_type": "code",
   "execution_count": 17,
   "id": "c7757120",
   "metadata": {},
   "outputs": [],
   "source": [
    "class LexiconClassifier:\n",
    "    def __init__(self, lexicon_path):\n",
    "        \"\"\"\n",
    "        Initialize a lexicon-based classifier.\n",
    "        Automatically separates phrases (multi-word terms) and single-word terms.\n",
    "        \"\"\"\n",
    "        self.word_set = set()\n",
    "        self.phrase_set = set()\n",
    "\n",
    "        with open(lexicon_path, encoding='utf-8') as file:\n",
    "            for line in file:\n",
    "                term = line.strip().lower()\n",
    "                if ' ' in term:\n",
    "                    self.phrase_set.add(term)\n",
    "                else:\n",
    "                    self.word_set.add(term)\n",
    "\n",
    "    def count_matches(self, sentence):\n",
    "        \"\"\"\n",
    "        Count how many lexicon words/phrases are present in a sentence.\n",
    "        \n",
    "        Parameters:\n",
    "            sentence (str): Input text.\n",
    "        \n",
    "        Returns:\n",
    "            int: Number of matched lexicon entries.\n",
    "        \"\"\"\n",
    "        sentence = sentence.lower()\n",
    "        words = sentence.split()\n",
    "\n",
    "        count = sum(1 for word in words if word in self.word_set)\n",
    "        count += sum(1 for phrase in self.phrase_set if phrase in sentence)\n",
    "\n",
    "        return count\n",
    "\n",
    "    def has_match(self, sentence):\n",
    "        \"\"\"\n",
    "        Check if any lexicon word or phrase is present in the sentence.\n",
    "        \n",
    "        Parameters:\n",
    "            sentence (str): Input text.\n",
    "        \n",
    "        Returns:\n",
    "            bool: True if a match is found, False otherwise.\n",
    "        \"\"\"\n",
    "        return self.count_matches(sentence) > 0"
   ]
  },
  {
   "cell_type": "markdown",
   "id": "b9124c72",
   "metadata": {},
   "source": [
    "### Step 2: Split the Data\n",
    "The second code block splits the dataset into training and testing sets. The training set is used to train the model, while the testing set is used to evaluate its performance. The split is done using a 80-20 ratio, meaning that 80% of the data is used for training and 20% for testing."
   ]
  },
  {
   "cell_type": "code",
   "execution_count": 21,
   "id": "ea52604d",
   "metadata": {},
   "outputs": [],
   "source": [
    "import pandas as pd\n",
    "from sklearn.model_selection import train_test_split\n",
    "\n",
    "def load_and_split_data(file_path, text_col, label_col, test_size=0.2, random_state=42):\n",
    "    \"\"\"\n",
    "    Loads a CSV file, extracts text and label columns, and splits the data into training and test sets. \n",
    "    Instead of using csv.reader, I am using pandas to handle the CSV file, which is more comfortable for me \n",
    "    and more efficient.\n",
    "\n",
    "    Functional Parameters:\n",
    "        file_path (str): Path to the CSV file.\n",
    "        text_col (str): Name of the column containing text data.\n",
    "        label_col (str): Name of the column containing labels (numeric or categorical).\n",
    "        test_size (float): Percent of data to reserve for testing.\n",
    "        random_state (int): Reproducibility.\n",
    "\n",
    "    Returns:\n",
    "        X_train, X_test, y_train, y_test: Lists for modeling.\n",
    "    \"\"\"\n",
    "    try:\n",
    "        df = pd.read_csv(file_path, encoding='utf-8')\n",
    "    except UnicodeDecodeError:\n",
    "        df = pd.read_csv(file_path, encoding='ISO-8859-1')\n",
    "\n",
    "    X_all = df[text_col].astype(str).tolist()\n",
    "    y_all = df[label_col].tolist()\n",
    "\n",
    "    return train_test_split(X_all, y_all, test_size=test_size, random_state=random_state)\n",
    "\n",
    "\n",
    "def count_cap_words(text):\n",
    "    \"\"\"\n",
    "    Count the number of capitalized words in a given text.\n",
    "\n",
    "    Functional Parameters:\n",
    "        file_path (text): String to analyze.\n",
    "\n",
    "    Returns:\n",
    "        count of capitalized words in the text.\n",
    "    \"\"\"\n",
    "    return sum(1 for word in text.split() if word.isupper())\n",
    "\n",
    "def count_exclamations(text):\n",
    "    \"\"\"\n",
    "    Count the number of exclamation marks in a given text.\n",
    "\n",
    "    Functional Parameters:\n",
    "        file_path (text): String to analyze.\n",
    "\n",
    "    Returns:\n",
    "        count of exclamation marks in the text.\n",
    "    \"\"\"    \n",
    "    return text.count('!')\n"
   ]
  },
  {
   "cell_type": "code",
   "execution_count": 22,
   "id": "afa3eb5a",
   "metadata": {},
   "outputs": [
    {
     "name": "stdout",
     "output_type": "stream",
     "text": [
      "Train size: 800\n",
      "Test size: 200\n",
      "Sample train data: [\"Don't know. Call center work is probably always going to suck (and still have high demand despite stressful work environments &amp; automated tech) but at least somebody is considering ways to make it suck less. I was just saying that it's different than what companies like GM Financial threw up last year and could be a next generation trend.\", \"Oops, my bad. I've had a few friends go to DO and they all wfh. Assumed all the tech roles were wfh.\", 'It\\'s typically going to depend on the river on any given day where/how it\\'s flowing.  The tube companies will generally know where to put you in based on how long you want to float.  I typically go to Rockin\\' R myself, often at River Road Icehouse instead of their flagship spot in Gruene, but only because I don\\'t like the crowded lines of people around me.  You have to wait just as long because you typically need an extra ride, but that\\'s just me.  There\\'s several outfitters though.  There\\'s also a Facebook page called \"Tubing the Guadalupe River\" that has pretty good, up to date information on flow, etc. and I\\'m sure you can ask folks their opinions on tube outfitters they like.', 'Side note, if you see her on the Facebook marketplace do not buy from her.\\n\\nWe went to her house to buy a washer and dryer, we just moved here from El Paso.  She gave us a key to the shed out back and said they were in the shed.  We went back to the shed after my wife paid her (our big mistake obviously) and when the key didn\\x92t work for the shed she had already left or hid in the house.  She has blocked us on social media and we have filed a police report. I understand we most likely won\\x92t get our money back.', \"Dang, that's the second Malnois looking dog I have seen in this same area. I had a different one follow me home, but he escaped my yard. Not sure if you checked for microchip already.\\n\\nI would recommend posting in the Malnois Facebook group if the dog has no chip or someone claiming ownership as someone in that group might be wanting to adopt. If she is small - under 25 pounds, humane society should have open intake Wednesday morning, but it does involve waiting a couple of hours. \\n\\nThanks for taking this girl in!\"]\n",
      "Sample train labels: [1, 0, 1, 1, 1]\n"
     ]
    }
   ],
   "source": [
    "# Extract Separate Datasets for Testing and training usage:\n",
    "X_txt_train, X_txt_test, y_train, y_test = load_and_split_data(\n",
    "    file_path='IS6713_Proj_Tech_DS.csv',\n",
    "    text_col='Comment',\n",
    "    label_col='Golden_Dataset_Label'\n",
    ")\n",
    "\n",
    "# Check the sizes of the datasets\n",
    "print(\"Train size:\", len(X_txt_train))\n",
    "print(\"Test size:\", len(X_txt_test))\n",
    "print(\"Sample train data:\", X_txt_train[:5])\n",
    "print(\"Sample train labels:\", y_train[:5])"
   ]
  },
  {
   "cell_type": "markdown",
   "id": "15cf1cb7",
   "metadata": {},
   "source": [
    "### Step 3: Training and Evaluation of the Lexicon-based Model\n",
    "The LexiconClassifier class is trained on a dataset of reddit posts, where each post is labeled as either technology-related or politics-related. The model uses a lexicon of keywords to classify the posts based on their content. The training process involves iterating through the dataset and checking for the presence of keywords in each post. The model then calculates the accuracy of its predictions by comparing them to the actual labels in the dataset."
   ]
  },
  {
   "cell_type": "code",
   "execution_count": 23,
   "id": "970b7209",
   "metadata": {},
   "outputs": [
    {
     "ename": "FileNotFoundError",
     "evalue": "[Errno 2] No such file or directory: 'technology-words.txt'",
     "output_type": "error",
     "traceback": [
      "\u001b[0;31m---------------------------------------------------------------------------\u001b[0m",
      "\u001b[0;31mFileNotFoundError\u001b[0m                         Traceback (most recent call last)",
      "Cell \u001b[0;32mIn[23], line 5\u001b[0m\n\u001b[1;32m      2\u001b[0m \u001b[38;5;28;01mfrom\u001b[39;00m \u001b[38;5;21;01msklearn\u001b[39;00m\u001b[38;5;21;01m.\u001b[39;00m\u001b[38;5;21;01mmetrics\u001b[39;00m \u001b[38;5;28;01mimport\u001b[39;00m precision_score, recall_score, f1_score, accuracy_score\n\u001b[1;32m      4\u001b[0m \u001b[38;5;66;03m# Create a lexicon-based classifier\u001b[39;00m\n\u001b[0;32m----> 5\u001b[0m tech_lex \u001b[38;5;241m=\u001b[39m LexiconClassifier(\u001b[38;5;124m'\u001b[39m\u001b[38;5;124mtechnology-words.txt\u001b[39m\u001b[38;5;124m'\u001b[39m)\n\u001b[1;32m      6\u001b[0m lex_test_preds \u001b[38;5;241m=\u001b[39m []\n\u001b[1;32m      8\u001b[0m \u001b[38;5;66;03m# Predict the test set using the lexicon-based classifier\u001b[39;00m\n",
      "Cell \u001b[0;32mIn[17], line 10\u001b[0m, in \u001b[0;36mLexiconClassifier.__init__\u001b[0;34m(self, lexicon_path)\u001b[0m\n\u001b[1;32m      7\u001b[0m \u001b[38;5;28mself\u001b[39m\u001b[38;5;241m.\u001b[39mword_set \u001b[38;5;241m=\u001b[39m \u001b[38;5;28mset\u001b[39m()\n\u001b[1;32m      8\u001b[0m \u001b[38;5;28mself\u001b[39m\u001b[38;5;241m.\u001b[39mphrase_set \u001b[38;5;241m=\u001b[39m \u001b[38;5;28mset\u001b[39m()\n\u001b[0;32m---> 10\u001b[0m \u001b[38;5;28;01mwith\u001b[39;00m \u001b[38;5;28mopen\u001b[39m(lexicon_path, encoding\u001b[38;5;241m=\u001b[39m\u001b[38;5;124m'\u001b[39m\u001b[38;5;124mutf-8\u001b[39m\u001b[38;5;124m'\u001b[39m) \u001b[38;5;28;01mas\u001b[39;00m file:\n\u001b[1;32m     11\u001b[0m     \u001b[38;5;28;01mfor\u001b[39;00m line \u001b[38;5;129;01min\u001b[39;00m file:\n\u001b[1;32m     12\u001b[0m         term \u001b[38;5;241m=\u001b[39m line\u001b[38;5;241m.\u001b[39mstrip()\u001b[38;5;241m.\u001b[39mlower()\n",
      "File \u001b[0;32m/opt/anaconda3/lib/python3.12/site-packages/IPython/core/interactiveshell.py:324\u001b[0m, in \u001b[0;36m_modified_open\u001b[0;34m(file, *args, **kwargs)\u001b[0m\n\u001b[1;32m    317\u001b[0m \u001b[38;5;28;01mif\u001b[39;00m file \u001b[38;5;129;01min\u001b[39;00m {\u001b[38;5;241m0\u001b[39m, \u001b[38;5;241m1\u001b[39m, \u001b[38;5;241m2\u001b[39m}:\n\u001b[1;32m    318\u001b[0m     \u001b[38;5;28;01mraise\u001b[39;00m \u001b[38;5;167;01mValueError\u001b[39;00m(\n\u001b[1;32m    319\u001b[0m         \u001b[38;5;124mf\u001b[39m\u001b[38;5;124m\"\u001b[39m\u001b[38;5;124mIPython won\u001b[39m\u001b[38;5;124m'\u001b[39m\u001b[38;5;124mt let you open fd=\u001b[39m\u001b[38;5;132;01m{\u001b[39;00mfile\u001b[38;5;132;01m}\u001b[39;00m\u001b[38;5;124m by default \u001b[39m\u001b[38;5;124m\"\u001b[39m\n\u001b[1;32m    320\u001b[0m         \u001b[38;5;124m\"\u001b[39m\u001b[38;5;124mas it is likely to crash IPython. If you know what you are doing, \u001b[39m\u001b[38;5;124m\"\u001b[39m\n\u001b[1;32m    321\u001b[0m         \u001b[38;5;124m\"\u001b[39m\u001b[38;5;124myou can use builtins\u001b[39m\u001b[38;5;124m'\u001b[39m\u001b[38;5;124m open.\u001b[39m\u001b[38;5;124m\"\u001b[39m\n\u001b[1;32m    322\u001b[0m     )\n\u001b[0;32m--> 324\u001b[0m \u001b[38;5;28;01mreturn\u001b[39;00m io_open(file, \u001b[38;5;241m*\u001b[39margs, \u001b[38;5;241m*\u001b[39m\u001b[38;5;241m*\u001b[39mkwargs)\n",
      "\u001b[0;31mFileNotFoundError\u001b[0m: [Errno 2] No such file or directory: 'technology-words.txt'"
     ]
    }
   ],
   "source": [
    "import numpy as np\n",
    "from sklearn.metrics import precision_score, recall_score, f1_score, accuracy_score\n",
    "\n",
    "# Create a lexicon-based classifier\n",
    "tech_lex = LexiconClassifier('technology-words.txt')\n",
    "lex_test_preds = []\n",
    "\n",
    "# Predict the test set using the lexicon-based classifier\n",
    "for sentence in X_txt_test:\n",
    "    pred = tech_lex.has_match(sentence)\n",
    "    lex_test_preds.append(pred)\n",
    "\n",
    "# View the first 5 predictions\n",
    "num_tweets = 0\n",
    "for text, lex_pred, y  in zip(X_txt_test, lex_test_preds, y_test):\n",
    "    print(\"Tweet: {}\".format(text))\n",
    "    print(\"Ground-Truth Class: {}\".format(y))\n",
    "    print(\"Lexicon Model Prediction: {}\".format(lex_pred))\n",
    "    print()\n",
    "    num_tweets += 1\n",
    "    if num_tweets == 5:\n",
    "        break    \n",
    "\n",
    "# Calculate precision, recall, and F1 score\n",
    "precision = precision_score(y_test, lex_test_preds, average='binary')\n",
    "recall = recall_score(y_test, lex_test_preds, average='binary')\n",
    "f1 = f1_score(y_test, lex_test_preds, average='binary')\n",
    "\n",
    "# Print the evaluation metrics\n",
    "print(f\"Precision: {precision:.4f}\")\n",
    "print(f\"Recall: {recall:.4f}\")\n",
    "print(f\"F1 Score: {f1:.4f}\")\n"
   ]
  },
  {
   "cell_type": "markdown",
   "id": "f9cea176",
   "metadata": {},
   "source": [
    "### Step 4: Training and Evaluation of the LinearSVC Model (BOW Only)\n",
    "The LinearSVC model is a linear classifier that uses a vector space representation of the posts to classify them. The model is trained on the same dataset as the LexiconClassifier, but it uses a different approach to classify the posts. The training process involves creating a vector representation of each post and using a linear classifier to predict its label. The model's performance is evaluated by comparing its predictions to the actual labels in the dataset."
   ]
  },
  {
   "cell_type": "code",
   "execution_count": null,
   "id": "837be2e4",
   "metadata": {},
   "outputs": [
    {
     "name": "stdout",
     "output_type": "stream",
     "text": [
      "Validation F1: 0.6825\n",
      "Macro Precision: 0.6765\n",
      "Micro Precision: 0.8250\n",
      "Macro Recall: 0.6989\n",
      "Micro Recall: 0.8250\n",
      "Macro F1: 0.6863\n",
      "Micro F1: 0.8250\n"
     ]
    }
   ],
   "source": [
    "from sklearn.model_selection import GridSearchCV\n",
    "from sklearn.feature_extraction.text import CountVectorizer\n",
    "from sklearn.svm import LinearSVC\n",
    "import scipy.sparse as sp\n",
    "from scipy.sparse import hstack\n",
    "np.random.seed(42)\n",
    "import random\n",
    "random.seed(42)\n",
    "\n",
    "vectorizer = CountVectorizer()\n",
    "\n",
    "# This will be the matrix from CountVectorizer\n",
    "X_train = vectorizer.fit_transform(X_txt_train) \n",
    "X_test = vectorizer.transform(X_txt_test)\n",
    "\n",
    "# Initialize the classifier LinearSVC \n",
    "svc = LinearSVC(max_iter=1000, random_state=42)\n",
    "\n",
    "# Create the params with the C values\n",
    "params = {'C': [0.0001, 0.001, 0.01, 0.1, 1, 10, 100]}\n",
    "\n",
    "# Initialize GridSearchCV\n",
    "clf = GridSearchCV(svc, params, scoring='f1_macro', cv=5)\n",
    "\n",
    "# \"fit\" the model  on X_train\n",
    "clf.fit(X_train, y_train)\n",
    "\n",
    "# Get the score from the GridSearchCV \"best score\"\n",
    "validation_score = clf.best_score_ \n",
    "print(\"Validation F1: {:.4f}\".format(validation_score))\n",
    "\n",
    "# \"predict\" on X_test \n",
    "svm_test_predictions = clf.predict(X_test) \n",
    "\n",
    "# Calculate precision, recall, and F1 score\n",
    "ma_precision = precision_score(y_test, svm_test_predictions, average='macro') \n",
    "mi_precision = precision_score(y_test, svm_test_predictions, average='micro') \n",
    "ma_recall = recall_score(y_test, svm_test_predictions, average='macro')\n",
    "mi_recall = recall_score(y_test, svm_test_predictions, average='micro')\n",
    "ma_f1 = f1_score(y_test, svm_test_predictions, average='macro')\n",
    "mi_f1 = f1_score(y_test, svm_test_predictions, average='micro')\n",
    "\n",
    "# Print the evaluation metrics\n",
    "print(\"Macro Precision: {:.4f}\".format(ma_precision))\n",
    "print(\"Micro Precision: {:.4f}\".format(mi_precision))\n",
    "print(\"Macro Recall: {:.4f}\".format(ma_recall))\n",
    "print(\"Micro Recall: {:.4f}\".format(mi_recall))\n",
    "print(\"Macro F1: {:.4f}\".format(ma_f1))\n",
    "print(\"Micro F1: {:.4f}\".format(mi_f1))\n"
   ]
  },
  {
   "cell_type": "markdown",
   "id": "c247196c",
   "metadata": {},
   "source": [
    "### Step 5: Training and Evaluation of the LinearSVC Model (BOW + Feature Engineering - Exclamation Marks) \n",
    "The BOW model is a bag-of-words model that uses the frequency of words in the posts to classify them. The model is trained on the same dataset as the LexiconClassifier and LinearVC models, but it uses a different approach to classify the posts. The training process involves creating a bag-of-words representation of each post and using a classifier to predict its label. The model's performance is evaluated by comparing its predictions to the actual labels in the dataset.  Furthermore, we are adding in a feature engineering model that will use exclamation marks as a feature to classify the posts. The model is trained on the same dataset as the other models, but it uses a different approach to classify the posts. The training process involves creating a feature representation of each post based on the presence of exclamation marks and using a classifier to predict its label. The model's performance is evaluated by comparing its predictions to the actual labels in the dataset."
   ]
  },
  {
   "cell_type": "code",
   "execution_count": null,
   "id": "a34b3420",
   "metadata": {},
   "outputs": [
    {
     "ename": "NameError",
     "evalue": "name 'tech_lex' is not defined",
     "output_type": "error",
     "traceback": [
      "\u001b[0;31m---------------------------------------------------------------------------\u001b[0m",
      "\u001b[0;31mNameError\u001b[0m                                 Traceback (most recent call last)",
      "Cell \u001b[0;32mIn[16], line 7\u001b[0m\n\u001b[1;32m      4\u001b[0m X_test_bow \u001b[38;5;241m=\u001b[39m vectorizer\u001b[38;5;241m.\u001b[39mtransform(X_txt_test)\n\u001b[1;32m      6\u001b[0m \u001b[38;5;66;03m# Lexicon match count\u001b[39;00m\n\u001b[0;32m----> 7\u001b[0m X_train_lex \u001b[38;5;241m=\u001b[39m np\u001b[38;5;241m.\u001b[39marray([tech_lex\u001b[38;5;241m.\u001b[39mcount_matches(text) \u001b[38;5;28;01mfor\u001b[39;00m text \u001b[38;5;129;01min\u001b[39;00m X_txt_train])\u001b[38;5;241m.\u001b[39mreshape(\u001b[38;5;241m-\u001b[39m\u001b[38;5;241m1\u001b[39m, \u001b[38;5;241m1\u001b[39m)\n\u001b[1;32m      8\u001b[0m X_test_lex \u001b[38;5;241m=\u001b[39m np\u001b[38;5;241m.\u001b[39marray([tech_lex\u001b[38;5;241m.\u001b[39mcount_matches(text) \u001b[38;5;28;01mfor\u001b[39;00m text \u001b[38;5;129;01min\u001b[39;00m X_txt_test])\u001b[38;5;241m.\u001b[39mreshape(\u001b[38;5;241m-\u001b[39m\u001b[38;5;241m1\u001b[39m, \u001b[38;5;241m1\u001b[39m)\n\u001b[1;32m     11\u001b[0m X_train_excl \u001b[38;5;241m=\u001b[39m np\u001b[38;5;241m.\u001b[39marray([count_exclamations(text) \u001b[38;5;28;01mfor\u001b[39;00m text \u001b[38;5;129;01min\u001b[39;00m X_txt_train])\u001b[38;5;241m.\u001b[39mreshape(\u001b[38;5;241m-\u001b[39m\u001b[38;5;241m1\u001b[39m, \u001b[38;5;241m1\u001b[39m)\n",
      "\u001b[0;31mNameError\u001b[0m: name 'tech_lex' is not defined"
     ]
    }
   ],
   "source": [
    "# BoW features\n",
    "vectorizer = CountVectorizer()\n",
    "X_train_bow = vectorizer.fit_transform(X_txt_train)\n",
    "X_test_bow = vectorizer.transform(X_txt_test)\n",
    "\n",
    "# Lexicon match count\n",
    "X_train_lex = np.array([tech_lex.count_matches(text) for text in X_txt_train]).reshape(-1, 1)\n",
    "X_test_lex = np.array([tech_lex.count_matches(text) for text in X_txt_test]).reshape(-1, 1)\n",
    "\n",
    "\n",
    "X_train_excl = np.array([count_exclamations(text) for text in X_txt_train]).reshape(-1, 1)\n",
    "X_test_excl = np.array([count_exclamations(text) for text in X_txt_test]).reshape(-1, 1)\n",
    "\n",
    "# Combine all features\n",
    "X_train_combined = hstack([X_train_bow, X_train_lex, X_train_excl])\n",
    "X_test_combined = hstack([X_test_bow, X_test_lex, X_test_excl])\n",
    "\n",
    "clf.fit(X_train_combined, y_train)\n",
    "\n",
    "validation_score = clf.best_score_\n",
    "print(\"Validation F1: {:.4f}\".format(validation_score))\n",
    "\n",
    "y_pred = clf.predict(X_test_combined)\n",
    "\n",
    "# Calculate precision, recall, and F1 score\n",
    "ma_precision = precision_score(y_test, y_pred, average='macro')\n",
    "ma_recall = recall_score(y_test, y_pred, average='macro')\n",
    "ma_f1 = f1_score(y_test, y_pred, average='macro')\n",
    "mi_precision = precision_score(y_test, y_pred, average='micro')\n",
    "mi_recall = recall_score(y_test, y_pred, average='micro')\n",
    "mi_f1 = f1_score(y_test, y_pred, average='micro')\n",
    "\n",
    "# Print the evaluation metrics\n",
    "print(\"Macro Precision: {:.4f}\".format(ma_precision))\n",
    "print(\"Micro Precision: {:.4f}\".format(mi_precision))\n",
    "print(\"Macro Recall: {:.4f}\".format(ma_recall))\n",
    "print(\"Micro Recall: {:.4f}\".format(mi_recall))\n",
    "print(\"Macro F1: {:.4f}\".format(ma_f1))\n",
    "print(\"Micro F1: {:.4f}\".format(mi_f1))"
   ]
  },
  {
   "cell_type": "markdown",
   "id": "886a37ae",
   "metadata": {},
   "source": [
    "### Step 6: Training and Evaluation of the LinearSVC Model (BOW + Feature Engineering - Capitalization) \n",
    "We are continuing our efforts to try and enahnce the model with feature engineering.  In this section we are using capital words to enhance the model."
   ]
  },
  {
   "cell_type": "code",
   "execution_count": null,
   "id": "c1e8e9ea",
   "metadata": {},
   "outputs": [
    {
     "name": "stdout",
     "output_type": "stream",
     "text": [
      "Validation F1: 0.6922\n",
      "Macro Precision: 0.7000\n",
      "Micro Precision: 0.8350\n",
      "Macro Recall: 0.7443\n",
      "Micro Recall: 0.8350\n",
      "Macro F1: 0.7175\n",
      "Micro F1: 0.8350\n"
     ]
    }
   ],
   "source": [
    "# BoW features\n",
    "vectorizer = CountVectorizer()\n",
    "X_train_bow = vectorizer.fit_transform(X_txt_train)\n",
    "X_test_bow = vectorizer.transform(X_txt_test)\n",
    "\n",
    "# Lexicon match count\n",
    "X_train_lex = np.array([tech_lex.count_matches(text) for text in X_txt_train]).reshape(-1, 1)\n",
    "X_test_lex = np.array([tech_lex.count_matches(text) for text in X_txt_test]).reshape(-1, 1)\n",
    "\n",
    "\n",
    "X_train_cap = np.array([count_cap_words(text) for text in X_txt_train]).reshape(-1, 1)\n",
    "X_test_cap = np.array([count_cap_words(text) for text in X_txt_test]).reshape(-1, 1)\n",
    "\n",
    "# Combine all features\n",
    "X_train_combined = hstack([X_train_bow, X_train_lex, X_train_cap])\n",
    "X_test_combined = hstack([X_test_bow, X_test_lex, X_test_cap])\n",
    "\n",
    "clf.fit(X_train_combined, y_train)\n",
    "\n",
    "validation_score = clf.best_score_\n",
    "print(\"Validation F1: {:.4f}\".format(validation_score))\n",
    "\n",
    "y_pred = clf.predict(X_test_combined)\n",
    "\n",
    "# Calculate precision, recall, and F1 score\n",
    "ma_precision = precision_score(y_test, y_pred, average='macro')\n",
    "ma_recall = recall_score(y_test, y_pred, average='macro')\n",
    "ma_f1 = f1_score(y_test, y_pred, average='macro')\n",
    "mi_precision = precision_score(y_test, y_pred, average='micro')\n",
    "mi_recall = recall_score(y_test, y_pred, average='micro')\n",
    "mi_f1 = f1_score(y_test, y_pred, average='micro')\n",
    "\n",
    "# Print the evaluation metrics\n",
    "print(\"Macro Precision: {:.4f}\".format(ma_precision))\n",
    "print(\"Micro Precision: {:.4f}\".format(mi_precision))\n",
    "print(\"Macro Recall: {:.4f}\".format(ma_recall))\n",
    "print(\"Micro Recall: {:.4f}\".format(mi_recall))\n",
    "print(\"Macro F1: {:.4f}\".format(ma_f1))\n",
    "print(\"Micro F1: {:.4f}\".format(mi_f1))\n"
   ]
  },
  {
   "cell_type": "markdown",
   "id": "27903c74",
   "metadata": {},
   "source": [
    "### Technology Classification – Performance Summary\n",
    "\n",
    "| Model                   | Val F1  | Macro Precision | Macro Recall | Macro F1 | Micro Precision | Micro Recall | Micro F1 |\n",
    "|------------------------|---------|------------------|---------------|----------|------------------|---------------|----------|\n",
    "| **Lexicon-Based**      | —       | 0.9739           | 0.6627        | 0.7887   | —                | —             | —        |\n",
    "| **BoW (LinearSVC)**    | 0.6825  | 0.6765           | 0.6989        | 0.6863   | 0.8250           | 0.8250        | 0.8250   |\n",
    "| **BoW + Exclamation**  | 0.6922  | 0.6904           | 0.7282        | 0.7056   | 0.8300           | 0.8300        | 0.8300   |\n",
    "| **BoW + Caps**         | 0.6922  | 0.7000           | 0.7443        | 0.7175   | 0.8350           | 0.8350        | 0.8350   |\n",
    "\n",
    "\n",
    "#### Notes:\n",
    "- The **lexicon model** delivered the highest precision but lower recall.  It is dependent on the lexicon and may not generalize well to unseen data.\n",
    "- The **BoW + Capitalized Words** model had the best overall F1 score.\n",
    "- Adding cues (like `!` or capitalized words) improved classification over BoW alone."
   ]
  },
  {
   "cell_type": "markdown",
   "id": "3637cf29",
   "metadata": {},
   "source": [
    "### Step 7: Error Analysis"
   ]
  },
  {
   "cell_type": "code",
   "execution_count": null,
   "id": "73418153",
   "metadata": {},
   "outputs": [
    {
     "data": {
      "text/plain": [
       "<Figure size 600x400 with 0 Axes>"
      ]
     },
     "metadata": {},
     "output_type": "display_data"
    },
    {
     "data": {
      "image/png": "[encoded data removed]",
      "text/plain": [
       "<Figure size 640x480 with 2 Axes>"
      ]
     },
     "metadata": {},
     "output_type": "display_data"
    }
   ],
   "source": [
    "from sklearn.metrics import confusion_matrix, ConfusionMatrixDisplay\n",
    "import matplotlib.pyplot as plt\n",
    "\n",
    "# Compute confusion matrix\n",
    "cm = confusion_matrix(y_test, y_pred)\n",
    "disp = ConfusionMatrixDisplay(confusion_matrix=cm, display_labels=['Not Tech', 'Tech'])\n",
    "\n",
    "# Plot it\n",
    "plt.figure(figsize=(6, 4))\n",
    "disp.plot(cmap='Blues', values_format='d')\n",
    "plt.title('Confusion Matrix')\n",
    "plt.grid(False)\n",
    "plt.show()"
   ]
  },
  {
   "cell_type": "markdown",
   "id": "87030a4a",
   "metadata": {},
   "source": [
    "### Step 8: Export Results"
   ]
  },
  {
   "cell_type": "code",
   "execution_count": null,
   "id": "c8f3501a",
   "metadata": {},
   "outputs": [
    {
     "name": "stdout",
     "output_type": "stream",
     "text": [
      "CSV file saved: IS6713_Proj_Final_Predictions_Tech.csv\n"
     ]
    }
   ],
   "source": [
    "df_output = pd.DataFrame({\n",
    "    \"comment\": X_txt_test,\n",
    "    \"gold_label\": y_test,\n",
    "    \"prediction\": y_pred\n",
    "})\n",
    "\n",
    "# Export to CSV\n",
    "df_output.to_csv(\"IS6713_Proj_Final_Predictions_Tech.csv\", index=False)\n",
    "print(\"CSV file saved: IS6713_Proj_Final_Predictions_Tech.csv\")"
   ]
  },
  {
   "cell_type": "markdown",
   "id": "5042e311",
   "metadata": {},
   "source": [
    "## Political vs Non Political Classification\n",
    "We will repeat the process of training and evaluating the models, but this time on a dataset of political posts.  The goal is to understand how the models perform on a different dataset and whether the results are consistent with the previous analysis. The models will be trained and evaluated using the same approach as with the technology posts. The performance of the models will be compared to assess their effectiveness in classifying political posts."
   ]
  },
  {
   "cell_type": "code",
   "execution_count": null,
   "id": "86836cb5",
   "metadata": {},
   "outputs": [
    {
     "name": "stdout",
     "output_type": "stream",
     "text": [
      "Train size: 800\n",
      "Test size: 200\n",
      "Sample train data: [\"Don't know. Call center work is probably always going to suck (and still have high demand despite stressful work environments &amp; automated tech) but at least somebody is considering ways to make it suck less. I was just saying that it's different than what companies like GM Financial threw up last year and could be a next generation trend.\", \"Oops, my bad. I've had a few friends go to DO and they all wfh. Assumed all the tech roles were wfh.\", 'It\\'s typically going to depend on the river on any given day where/how it\\'s flowing.  The tube companies will generally know where to put you in based on how long you want to float.  I typically go to Rockin\\' R myself, often at River Road Icehouse instead of their flagship spot in Gruene, but only because I don\\'t like the crowded lines of people around me.  You have to wait just as long because you typically need an extra ride, but that\\'s just me.  There\\'s several outfitters though.  There\\'s also a Facebook page called \"Tubing the Guadalupe River\" that has pretty good, up to date information on flow, etc. and I\\'m sure you can ask folks their opinions on tube outfitters they like.', 'Side note, if you see her on the Facebook marketplace do not buy from her.\\n\\nWe went to her house to buy a washer and dryer, we just moved here from El Paso.  She gave us a key to the shed out back and said they were in the shed.  We went back to the shed after my wife paid her (our big mistake obviously) and when the key didn\\x92t work for the shed she had already left or hid in the house.  She has blocked us on social media and we have filed a police report. I understand we most likely won\\x92t get our money back.', \"Dang, that's the second Malnois looking dog I have seen in this same area. I had a different one follow me home, but he escaped my yard. Not sure if you checked for microchip already.\\n\\nI would recommend posting in the Malnois Facebook group if the dog has no chip or someone claiming ownership as someone in that group might be wanting to adopt. If she is small - under 25 pounds, humane society should have open intake Wednesday morning, but it does involve waiting a couple of hours. \\n\\nThanks for taking this girl in!\"]\n",
      "Sample train labels: [0, 0, 0, 0, 0]\n"
     ]
    }
   ],
   "source": [
    "# Extract Separate Datasets for Testing and training usage:\n",
    "X_txt_train, X_txt_test, y_train, y_test = load_and_split_data(\n",
    "    file_path='IS6713_Proj_Pol_DS.csv',\n",
    "    text_col='Comment',\n",
    "    label_col='Golden_Dataset_Label'\n",
    ")\n",
    "\n",
    "# Check the sizes of the datasets\n",
    "print(\"Train size:\", len(X_txt_train))\n",
    "print(\"Test size:\", len(X_txt_test))\n",
    "print(\"Sample train data:\", X_txt_train[:5])\n",
    "print(\"Sample train labels:\", y_train[:5])"
   ]
  },
  {
   "cell_type": "markdown",
   "id": "82a9b56c",
   "metadata": {},
   "source": [
    "## Lexicon-based Model"
   ]
  },
  {
   "cell_type": "code",
   "execution_count": null,
   "id": "9213cd99",
   "metadata": {},
   "outputs": [
    {
     "name": "stdout",
     "output_type": "stream",
     "text": [
      "Tweet: The actual reason behind *why* is that Texas doesn't limit liability as much as other states particularly when it comes to things like 18 wheeler accidents. In fact, a case in Corpus recently set the largest personal injury verdict record by awarding the plaintiff $301 billion. These sums often get overturned but none-the-less, it's very lucrative to be a personal injury attorney here. \n",
      "\n",
      "source: work in tech related to texas insurance markets\n",
      "Ground-Truth Class: 0\n",
      "Lexicon Model Prediction: False\n",
      "\n",
      "Tweet: [Here's one.](https://www.facebook.com/events/410336432484902/)\n",
      "Ground-Truth Class: 0\n",
      "Lexicon Model Prediction: False\n",
      "\n",
      "Tweet: Reason I like Waze:  \n",
      "  \n",
      "- Road Closures (Not all of them, but more than GMaps, as GMaps gets its closure info from Waze)\n",
      "- Updates are volunteer managed\n",
      "  - More accurate maps given lots of changing highways due to construction\n",
      "  - Additions like Parking Lot Roads or New neighborhoods can be live in the app in as little as 18 hours. \n",
      "- Similar or Faster routes than GMaps\n",
      "- Hazard &amp; Police Reports  \n",
      "  \n",
      "As a delivery driver, I am ALL OVER the city (Though, admittedly, south of 90 doesnt order much from amazon). And I've use Waze and Google maps, even tried apple maps (for about 5 minutes) and various other paid navigation apps... The only reasonable options are Google Maps and Waze, but I still prefer Waze over Google Maps.  \n",
      "  \n",
      "Also, Waze only gets better the more people use it. Even more accurate traffic data (Though its very good as it is), and faster updates for road closures and reopenings, accidents, etc.  \n",
      "  \n",
      "Also, I LOVE when people give me delivery notes \"My address isnt in GPS so turn here, exit here, go X etc....\" I just put the address in Waze and 90% of the time at very least the road has been mapped, if not the individual house number too. The other 10% of the time, I end up adding their whole neighborhood to Waze when I get home for the day. \n",
      "Ground-Truth Class: 0\n",
      "Lexicon Model Prediction: False\n",
      "\n",
      "Tweet: Seconded. You guys should look into accepting PayPal or Google Checkout.\n",
      "Ground-Truth Class: 0\n",
      "Lexicon Model Prediction: False\n",
      "\n",
      "Tweet: [https://www.reddit.com/r/Dashcam/](https://www.reddit.com/r/Dashcam/)\n",
      "\n",
      "Look on the right side of the page to look at their recommendations, I have the VIOFO A129 Pro Duo with the hardwire kit. \n",
      "\n",
      "Export involves installing their phone app, connecting to the camera wifi, and downloading to your phone. You can also pull the memory card and use the laptop card reader.\n",
      "Ground-Truth Class: 0\n",
      "Lexicon Model Prediction: False\n",
      "\n",
      "Precision: 0.5000\n",
      "Recall: 0.4667\n",
      "F1 Score: 0.4828\n"
     ]
    }
   ],
   "source": [
    "tech_lex = LexiconClassifier('political-words.txt')\n",
    "lex_test_preds = []\n",
    "\n",
    "for sentence in X_txt_test:\n",
    "    pred = tech_lex.has_match(sentence)\n",
    "    lex_test_preds.append(pred)\n",
    "\n",
    "num_tweets = 0\n",
    "for text, lex_pred, y  in zip(X_txt_test, lex_test_preds, y_test):\n",
    "    print(\"Tweet: {}\".format(text))\n",
    "    print(\"Ground-Truth Class: {}\".format(y))\n",
    "    print(\"Lexicon Model Prediction: {}\".format(lex_pred))\n",
    "    print()\n",
    "    num_tweets += 1\n",
    "    if num_tweets == 5:\n",
    "        break    \n",
    "\n",
    "precision = precision_score(y_test, lex_test_preds, average='binary')\n",
    "recall = recall_score(y_test, lex_test_preds, average='binary')\n",
    "f1 = f1_score(y_test, lex_test_preds, average='binary')\n",
    "\n",
    "print(f\"Precision: {precision:.4f}\")\n",
    "print(f\"Recall: {recall:.4f}\")\n",
    "print(f\"F1 Score: {f1:.4f}\")\n"
   ]
  },
  {
   "cell_type": "markdown",
   "id": "6f071ec2",
   "metadata": {},
   "source": [
    "### Bag-of-Words Model (BoW)"
   ]
  },
  {
   "cell_type": "code",
   "execution_count": null,
   "id": "74fa5525",
   "metadata": {},
   "outputs": [
    {
     "name": "stdout",
     "output_type": "stream",
     "text": [
      "Validation F1: 0.6090\n",
      "Macro Precision: 0.8444\n",
      "Micro Precision: 0.9350\n",
      "Macro Recall: 0.5973\n",
      "Micro Recall: 0.9350\n",
      "Macro F1: 0.6408\n",
      "Micro F1: 0.9350\n"
     ]
    }
   ],
   "source": [
    "np.random.seed(42)\n",
    "import random\n",
    "random.seed(42)\n",
    "\n",
    "vectorizer = CountVectorizer()\n",
    "\n",
    "# This will be the matrix from CountVectorizer\n",
    "X_train = vectorizer.fit_transform(X_txt_train) \n",
    "X_test = vectorizer.transform(X_txt_test)\n",
    "\n",
    "# Initialize the classifier LinearSVC \n",
    "svc = LinearSVC(max_iter=1000, random_state=42)\n",
    "\n",
    "# Create the params with the C values\n",
    "params = {'C': [0.0001, 0.001, 0.01, 0.1, 1, 10, 100]}\n",
    "\n",
    "# Initialize GridSearchCV\n",
    "clf = GridSearchCV(svc, params, scoring='f1_macro', cv=5)\n",
    "\n",
    "# \"fit\" the model  on X_train\n",
    "clf.fit(X_train, y_train)\n",
    "\n",
    "# Get the score from the GridSearchCV \"best score\"\n",
    "validation_score = clf.best_score_ \n",
    "print(\"Validation F1: {:.4f}\".format(validation_score))\n",
    "\n",
    "# \"predict\" on X_test \n",
    "svm_test_predictions = clf.predict(X_test) \n",
    "\n",
    "# Calculate precision, recall, and F1 score\n",
    "ma_precision = precision_score(y_test, svm_test_predictions, average='macro') \n",
    "mi_precision = precision_score(y_test, svm_test_predictions, average='micro') \n",
    "ma_recall = recall_score(y_test, svm_test_predictions, average='macro')\n",
    "mi_recall = recall_score(y_test, svm_test_predictions, average='micro')\n",
    "ma_f1 = f1_score(y_test, svm_test_predictions, average='macro')\n",
    "mi_f1 = f1_score(y_test, svm_test_predictions, average='micro')\n",
    "\n",
    "# Print the evaluation metrics\n",
    "print(\"Macro Precision: {:.4f}\".format(ma_precision))\n",
    "print(\"Micro Precision: {:.4f}\".format(mi_precision))\n",
    "print(\"Macro Recall: {:.4f}\".format(ma_recall))\n",
    "print(\"Micro Recall: {:.4f}\".format(mi_recall))\n",
    "print(\"Macro F1: {:.4f}\".format(ma_f1))\n",
    "print(\"Micro F1: {:.4f}\".format(mi_f1))\n",
    "\n"
   ]
  },
  {
   "cell_type": "markdown",
   "id": "590e5de2",
   "metadata": {},
   "source": [
    "### Bag-of-Words Model (BoW) with Feature Engineering - Exclamation Marks"
   ]
  },
  {
   "cell_type": "code",
   "execution_count": null,
   "id": "f74c13f4",
   "metadata": {},
   "outputs": [
    {
     "name": "stdout",
     "output_type": "stream",
     "text": [
      "Validation F1: 0.6919\n",
      "Macro Precision: 0.7692\n",
      "Micro Precision: 0.9300\n",
      "Macro Recall: 0.5946\n",
      "Micro Recall: 0.9300\n",
      "Macro F1: 0.6316\n",
      "Micro F1: 0.9300\n"
     ]
    }
   ],
   "source": [
    "# BoW features\n",
    "vectorizer = CountVectorizer()\n",
    "X_train_bow = vectorizer.fit_transform(X_txt_train)\n",
    "X_test_bow = vectorizer.transform(X_txt_test)\n",
    "\n",
    "# Lexicon match count\n",
    "X_train_lex = np.array([tech_lex.count_matches(text) for text in X_txt_train]).reshape(-1, 1)\n",
    "X_test_lex = np.array([tech_lex.count_matches(text) for text in X_txt_test]).reshape(-1, 1)\n",
    "\n",
    "\n",
    "X_train_excl = np.array([count_exclamations(text) for text in X_txt_train]).reshape(-1, 1)\n",
    "X_test_excl = np.array([count_exclamations(text) for text in X_txt_test]).reshape(-1, 1)\n",
    "\n",
    "# Combine all features\n",
    "X_train_combined = hstack([X_train_bow, X_train_lex, X_train_excl])\n",
    "X_test_combined = hstack([X_test_bow, X_test_lex, X_test_excl])\n",
    "\n",
    "clf.fit(X_train_combined, y_train)\n",
    "\n",
    "validation_score = clf.best_score_\n",
    "print(\"Validation F1: {:.4f}\".format(validation_score))\n",
    "\n",
    "y_pred = clf.predict(X_test_combined)\n",
    "\n",
    "# Calculate precision, recall, and F1 score\n",
    "ma_precision = precision_score(y_test, y_pred, average='macro')\n",
    "ma_recall = recall_score(y_test, y_pred, average='macro')\n",
    "ma_f1 = f1_score(y_test, y_pred, average='macro')\n",
    "mi_precision = precision_score(y_test, y_pred, average='micro')\n",
    "mi_recall = recall_score(y_test, y_pred, average='micro')\n",
    "mi_f1 = f1_score(y_test, y_pred, average='micro')\n",
    "\n",
    "\n",
    "# Print the evaluation metrics\n",
    "print(\"Macro Precision: {:.4f}\".format(ma_precision))\n",
    "print(\"Micro Precision: {:.4f}\".format(mi_precision))\n",
    "print(\"Macro Recall: {:.4f}\".format(ma_recall))\n",
    "print(\"Micro Recall: {:.4f}\".format(mi_recall))\n",
    "print(\"Macro F1: {:.4f}\".format(ma_f1))\n",
    "print(\"Micro F1: {:.4f}\".format(mi_f1))\n"
   ]
  },
  {
   "cell_type": "markdown",
   "id": "f6d30804",
   "metadata": {},
   "source": [
    "### Bag-of-Words Model (BoW) with Feature Engineering - Capitalization"
   ]
  },
  {
   "cell_type": "code",
   "execution_count": null,
   "id": "73839893",
   "metadata": {},
   "outputs": [
    {
     "name": "stdout",
     "output_type": "stream",
     "text": [
      "Validation F1: 0.6967\n",
      "Macro Precision: 0.7692\n",
      "Micro Precision: 0.9300\n",
      "Macro Recall: 0.5946\n",
      "Micro Recall: 0.9300\n",
      "Macro F1: 0.6316\n",
      "Micro F1: 0.9300\n"
     ]
    }
   ],
   "source": [
    "# BoW features\n",
    "vectorizer = CountVectorizer()\n",
    "X_train_bow = vectorizer.fit_transform(X_txt_train)\n",
    "X_test_bow = vectorizer.transform(X_txt_test)\n",
    "\n",
    "# Lexicon match count\n",
    "X_train_lex = np.array([tech_lex.count_matches(text) for text in X_txt_train]).reshape(-1, 1)\n",
    "X_test_lex = np.array([tech_lex.count_matches(text) for text in X_txt_test]).reshape(-1, 1)\n",
    "\n",
    "\n",
    "X_train_cap = np.array([count_cap_words(text) for text in X_txt_train]).reshape(-1, 1)\n",
    "X_test_cap = np.array([count_cap_words(text) for text in X_txt_test]).reshape(-1, 1)\n",
    "\n",
    "# Combine all features\n",
    "X_train_combined = hstack([X_train_bow, X_train_lex, X_train_cap])\n",
    "X_test_combined = hstack([X_test_bow, X_test_lex, X_test_cap])\n",
    "\n",
    "clf.fit(X_train_combined, y_train)\n",
    "\n",
    "validation_score = clf.best_score_\n",
    "print(\"Validation F1: {:.4f}\".format(validation_score))\n",
    "\n",
    "y_pred = clf.predict(X_test_combined)\n",
    "\n",
    "# Calculate precision, recall, and F1 score\n",
    "ma_precision = precision_score(y_test, y_pred, average='macro')\n",
    "ma_recall = recall_score(y_test, y_pred, average='macro')\n",
    "ma_f1 = f1_score(y_test, y_pred, average='macro')\n",
    "mi_precision = precision_score(y_test, y_pred, average='micro')\n",
    "mi_recall = recall_score(y_test, y_pred, average='micro')\n",
    "mi_f1 = f1_score(y_test, y_pred, average='micro')\n",
    "\n",
    "# Print the evaluation metrics\n",
    "print(\"Macro Precision: {:.4f}\".format(ma_precision))\n",
    "print(\"Micro Precision: {:.4f}\".format(mi_precision))\n",
    "print(\"Macro Recall: {:.4f}\".format(ma_recall))\n",
    "print(\"Micro Recall: {:.4f}\".format(mi_recall))\n",
    "print(\"Macro F1: {:.4f}\".format(ma_f1))\n",
    "print(\"Micro F1: {:.4f}\".format(mi_f1))\n"
   ]
  },
  {
   "cell_type": "markdown",
   "id": "8134d2cd",
   "metadata": {},
   "source": [
    "### Political Classification – Performance Summary\n",
    "\n",
    "| Model                         | Val F1  | Macro Precision | Macro Recall | Macro F1 | Micro Precision | Micro Recall | Micro F1 |\n",
    "|------------------------------|---------|------------------|---------------|----------|------------------|---------------|----------|\n",
    "| **Lexicon-Based**            | —       | 0.5000           | 0.4667        | 0.4828   | —                | —             | —        |\n",
    "| **BoW (LinearSVC)**          | 0.6090  | 0.8444           | 0.5973        | 0.6408   | 0.9350           | 0.9350        | 0.9350   |\n",
    "| **BoW + Exclamation**  | 0.6919  | 0.7692           | 0.5946        | 0.6316   | 0.9300           | 0.9300        | 0.9300   |\n",
    "| **BoW + Caps**               | 0.6967  | 0.7692           | 0.5946        | 0.6316   | 0.9300           | 0.9300        | 0.9300   |\n",
    "\n",
    "\n",
    "\n",
    "#### Notes:\n",
    "The political classification models performed much worse than the technology classification models.  The lexicon model had very low precision and recall, indicating that it was not good at classifying political posts relative to that of the technology posts. My assumption is that there is a very broad lexicon of words that can be used to classify political posts, and the model is not able to account for that.\n",
    "\n",
    "- The lexicon model performed poorly overall, missing nuanced political language and showing low recall.\n",
    "- The BoW-only model had the highest precision, meaning it was cautious and rarely mislabeled non-political posts.\n",
    "- Adding exclamation point or capital word count features had a noticeable benefit during cross-validation (higher validation F1), but test F1 remained similar to the base BoW model and actually decreased relative to the BOW-only model.\n",
    "- Overall, the BoW alone is sufficient for identifying political language in many cases, and additional features offer marginal gains but compared to the technology classification, the models are not as effective.\n",
    "\n"
   ]
  },
  {
   "cell_type": "code",
   "execution_count": null,
   "id": "af9cfedb",
   "metadata": {},
   "outputs": [
    {
     "data": {
      "text/plain": [
       "<Figure size 600x400 with 0 Axes>"
      ]
     },
     "metadata": {},
     "output_type": "display_data"
    },
    {
     "data": {
      "image/png": "[encoded data removed]",
      "text/plain": [
       "<Figure size 640x480 with 2 Axes>"
      ]
     },
     "metadata": {},
     "output_type": "display_data"
    }
   ],
   "source": [
    "# Compute confusion matrix\n",
    "cm = confusion_matrix(y_test, y_pred)\n",
    "disp = ConfusionMatrixDisplay(confusion_matrix=cm, display_labels=['Not Political', 'Political'])\n",
    "\n",
    "# Plot it\n",
    "plt.figure(figsize=(6, 4))\n",
    "disp.plot(cmap='Blues', values_format='d')\n",
    "plt.title('Confusion Matrix')\n",
    "plt.grid(False)\n",
    "plt.show()"
   ]
  },
  {
   "cell_type": "code",
   "execution_count": null,
   "id": "784342f3",
   "metadata": {},
   "outputs": [
    {
     "name": "stdout",
     "output_type": "stream",
     "text": [
      "CSV file saved: IS6713_Proj_Final_Predictions_Political.csv\n"
     ]
    }
   ],
   "source": [
    "df_output = pd.DataFrame({\n",
    "    \"comment\": X_txt_test,\n",
    "    \"gold_label\": y_test,\n",
    "    \"prediction\": y_pred\n",
    "})\n",
    "\n",
    "# Export to CSV\n",
    "df_output.to_csv(\"IS6713_Proj_Final_Predictions_Political.csv\", index=False)\n",
    "print(\"CSV file saved: IS6713_Proj_Final_Predictions_Political.csv\")"
   ]
  }
 ],
 "metadata": {
  "kernelspec": {
   "display_name": "base",
   "language": "python",
   "name": "python3"
  },
  "language_info": {
   "codemirror_mode": {
    "name": "ipython",
    "version": 3
   },
   "file_extension": ".py",
   "mimetype": "text/x-python",
   "name": "python",
   "nbconvert_exporter": "python",
   "pygments_lexer": "ipython3",
   "version": "3.12.7"
  }
 },
 "nbformat": 4,
 "nbformat_minor": 5
}
